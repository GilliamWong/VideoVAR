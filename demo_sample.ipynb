{
 "cells": [
  {
   "cell_type": "markdown",
   "metadata": {
    "collapsed": false
   },
   "source": [
    "### 🚀 For an interactive experience, head over to our [demo platform](https://var.vision/demo) and dive right in! 🌟"
   ]
  },
  {
   "cell_type": "code",
   "execution_count": 1,
   "metadata": {
    "collapsed": false,
    "is_executing": true
   },
   "outputs": [
    {
     "name": "stdout",
     "output_type": "stream",
     "text": [
      "\n",
      "[constructor]  ==== flash_if_available=True (0/24), fused_if_available=True (fusing_add_ln=0/24, fusing_mlp=0/24) ==== \n",
      "    [VAR config ] embed_dim=1536, num_heads=24, depth=24, mlp_ratio=4.0\n",
      "    [drop ratios ] drop_rate=0.0, attn_drop_rate=0.0, drop_path_rate=0.1 (tensor([0.0000, 0.0043, 0.0087, 0.0130, 0.0174, 0.0217, 0.0261, 0.0304, 0.0348,\n",
      "        0.0391, 0.0435, 0.0478, 0.0522, 0.0565, 0.0609, 0.0652, 0.0696, 0.0739,\n",
      "        0.0783, 0.0826, 0.0870, 0.0913, 0.0957, 0.1000]))\n",
      "\n",
      "[init_weights] VAR with init_std=0.0147314\n",
      "preparation finished.\n"
     ]
    }
   ],
   "source": [
    "################## 1. Download checkpoints and build models\n",
    "import os\n",
    "if os.path.exists('/content/VAR'): os.chdir('/content/VAR')\n",
    "import os.path as osp\n",
    "import torch, torchvision\n",
    "import random\n",
    "import numpy as np\n",
    "import PIL.Image as PImage, PIL.ImageDraw as PImageDraw\n",
    "setattr(torch.nn.Linear, 'reset_parameters', lambda self: None)     # disable default parameter init for faster speed\n",
    "setattr(torch.nn.LayerNorm, 'reset_parameters', lambda self: None)  # disable default parameter init for faster speed\n",
    "from models import VQVAE, build_vae_var\n",
    "\n",
    "# we recommend using imagenet-512-d36 model to do the in-painting & out-painting & class-condition editing task\n",
    "MODEL_DEPTH = 24    # TODO: =====> please specify MODEL_DEPTH <=====\n",
    "\n",
    "assert MODEL_DEPTH in {16, 20, 24, 30, 36}\n",
    "\n",
    "\n",
    "# download checkpoint\n",
    "hf_home = 'https://huggingface.co/FoundationVision/var/resolve/main'\n",
    "\n",
    "# --- MODIFICATION START ---\n",
    "checkpoint_dir = '/Users/gilliam/Desktop/493G1/VAR/VideoVAR/' # Your local directory\n",
    "\n",
    "vae_ckpt_name = 'vae_ch160v4096z32.pth'\n",
    "var_ckpt_name = f'var_d{MODEL_DEPTH}.pth' # This will correctly become 'var_d36.pth' if MODEL_DEPTH is 36\n",
    "\n",
    "# Use these variables with the correct local paths\n",
    "local_vae_ckpt_path = osp.join(checkpoint_dir, vae_ckpt_name)\n",
    "local_var_ckpt_path = osp.join(checkpoint_dir, var_ckpt_name)\n",
    "\n",
    "# Optional: Keep the download logic if the files might not be there\n",
    "if not osp.exists(local_vae_ckpt_path):\n",
    "    print(f\"{local_vae_ckpt_path} not found. Downloading {vae_ckpt_name} to {checkpoint_dir}...\")\n",
    "    os.makedirs(checkpoint_dir, exist_ok=True) # Ensure directory exists\n",
    "    os.system(f'wget {hf_home}/{vae_ckpt_name} -O {local_vae_ckpt_path}')\n",
    "if not osp.exists(local_var_ckpt_path):\n",
    "    print(f\"{local_var_ckpt_path} not found. Downloading {var_ckpt_name} to {checkpoint_dir}...\")\n",
    "    os.makedirs(checkpoint_dir, exist_ok=True) # Ensure directory exists\n",
    "    os.system(f'wget {hf_home}/{var_ckpt_name} -O {local_var_ckpt_path}')\n",
    "# --- MODIFICATION END ---\n",
    "\n",
    "# build vae, var\n",
    "FOR_512_px = MODEL_DEPTH == 36\n",
    "if FOR_512_px:\n",
    "    patch_nums = (1, 2, 3, 4, 6, 9, 13, 18, 24, 32)\n",
    "else:\n",
    "    patch_nums = (1, 2, 3, 4, 5, 6, 8, 10, 13, 16)\n",
    "device = torch.device('cuda' if torch.cuda.is_available() else 'cpu')\n",
    "vae, var = build_vae_var(\n",
    "    V=4096, Cvae=32, ch=160, share_quant_resi=4,    # hard-coded VQVAE hyperparameters\n",
    "    device=device, patch_nums=patch_nums,\n",
    "    num_classes=1000, depth=MODEL_DEPTH, shared_aln=FOR_512_px,\n",
    ")\n",
    "\n",
    "# load checkpoints\n",
    "# --- ENSURE YOU USE THE CORRECT PATH VARIABLES HERE ---\n",
    "vae.load_state_dict(torch.load(local_vae_ckpt_path, map_location='cpu'), strict=True)\n",
    "var.load_state_dict(torch.load(local_var_ckpt_path, map_location='cpu'), strict=True)\n",
    "# ---\n",
    "\n",
    "vae.eval(), var.eval()\n",
    "for p in vae.parameters(): p.requires_grad_(False)\n",
    "for p in var.parameters(): p.requires_grad_(False)\n",
    "print(f'preparation finished.')"
   ]
  },
  {
   "cell_type": "code",
   "execution_count": null,
   "metadata": {
    "collapsed": false
   },
   "outputs": [],
   "source": [
    "############################# 2. Sample with classifier-free guidance\n",
    "\n",
    "# set args\n",
    "seed = 0 #@param {type:\"number\"}\n",
    "torch.manual_seed(seed)\n",
    "num_sampling_steps = 250 #@param {type:\"slider\", min:0, max:1000, step:1}\n",
    "cfg = 4 #@param {type:\"slider\", min:1, max:10, step:0.1}\n",
    "class_labels = (980, 980, 980, 980, 980, 980, 980, 980)  #@param {type:\"raw\"}\n",
    "more_smooth = False # True for more smooth output\n",
    "\n",
    "# seed\n",
    "torch.manual_seed(seed)\n",
    "random.seed(seed)\n",
    "np.random.seed(seed)\n",
    "torch.backends.cudnn.deterministic = True\n",
    "torch.backends.cudnn.benchmark = False\n",
    "\n",
    "# run faster\n",
    "tf32 = True\n",
    "torch.backends.cudnn.allow_tf32 = bool(tf32)\n",
    "torch.backends.cuda.matmul.allow_tf32 = bool(tf32)\n",
    "torch.set_float32_matmul_precision('high' if tf32 else 'highest')\n",
    "\n",
    "# sample\n",
    "B = len(class_labels)\n",
    "label_B: torch.LongTensor = torch.tensor(class_labels, device=device)\n",
    "with torch.inference_mode():\n",
    "    with torch.autocast('cuda', enabled=True, dtype=torch.float16, cache_enabled=True):    # using bfloat16 can be faster\n",
    "        recon_B3HW = var.autoregressive_infer_cfg(B=B, label_B=label_B, cfg=cfg, top_k=900, top_p=0.95, g_seed=seed, more_smooth=more_smooth)\n",
    "\n",
    "chw = torchvision.utils.make_grid(recon_B3HW, nrow=8, padding=0, pad_value=1.0)\n",
    "chw = chw.permute(1, 2, 0).mul_(255).cpu().numpy()\n",
    "chw = PImage.fromarray(chw.astype(np.uint8))\n",
    "chw.show()\n"
   ]
  }
 ],
 "metadata": {
  "kernelspec": {
   "display_name": "myenv",
   "language": "python",
   "name": "python3"
  },
  "language_info": {
   "codemirror_mode": {
    "name": "ipython",
    "version": 3
   },
   "file_extension": ".py",
   "mimetype": "text/x-python",
   "name": "python",
   "nbconvert_exporter": "python",
   "pygments_lexer": "ipython3",
   "version": "3.10.16"
  }
 },
 "nbformat": 4,
 "nbformat_minor": 0
}
